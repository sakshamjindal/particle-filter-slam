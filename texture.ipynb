{
 "cells": [
  {
   "cell_type": "code",
   "execution_count": 34,
   "metadata": {},
   "outputs": [],
   "source": [
    "%load_ext autoreload\n",
    "%autoreload 2"
   ]
  },
  {
   "cell_type": "code",
   "execution_count": 79,
   "metadata": {},
   "outputs": [],
   "source": [
    "\n",
    "import numpy as np\n",
    "import matplotlib.pyplot as plt\n",
    "import pickle\n",
    "import cv2\n",
    "\n",
    "import numpy as np\n",
    "from tqdm import tqdm\n",
    "import os\n",
    "\n",
    "from core.robot import Robot, body_T_optical\n",
    "from core.dataloader import EncoderIMULoader, LidarLoader, DisparityLoader, RGBLoader\n",
    "from core.map import Map\n",
    "from core.load_data import load_data\n",
    "import matplotlib.pyplot as plt"
   ]
  },
  {
   "cell_type": "code",
   "execution_count": 42,
   "metadata": {},
   "outputs": [
    {
     "name": "stderr",
     "output_type": "stream",
     "text": [
      "9918it [05:28, 30.22it/s]\n"
     ]
    }
   ],
   "source": [
    "N = 10\n",
    "sigma = 0.01\n",
    "dataset_num = 20\n",
    "dataset_dir = \"data\"\n",
    "data = load_data(dataset_dir, dataset_num)\n",
    "\n",
    "save_dir = f\"results/temp\"\n",
    "robot = Robot(N = N, sigma = sigma, parallize=False, dataset_dir=save_dir)\n",
    "\n",
    "encoder = EncoderIMULoader(data)\n",
    "lidar_data = LidarLoader(data)\n",
    "\n",
    "encoder_stamps = encoder.encoder_stamps\n",
    "lidar_stamps = lidar_data.lidar_stamps\n",
    "\n",
    "timestamps = np.concatenate((encoder_stamps, lidar_stamps))\n",
    "timestamps.sort()\n",
    "\n",
    "for index, timestamp in tqdm(enumerate(timestamps)):\n",
    "    if timestamp in encoder_stamps:\n",
    "        encoder_index = np.where(encoder_stamps == timestamp)[0][0]\n",
    "\n",
    "        if encoder_index == 0:\n",
    "            continue\n",
    "\n",
    "        motion_model = encoder.motion_model(encoder_index)\n",
    "        robot.predict(motion_model)\n",
    "\n",
    "    elif timestamp in lidar_stamps:\n",
    "        lidar_index = np.where(lidar_stamps == timestamp)[0][0]\n",
    "        lidar_points = lidar_data(lidar_index)\n",
    "\n",
    "        robot.update(lidar_points.points)\n",
    "    else:\n",
    "        print(\"Something went wrong\")"
   ]
  },
  {
   "cell_type": "code",
   "execution_count": 49,
   "metadata": {},
   "outputs": [],
   "source": [
    "from core.utils import coord3d"
   ]
  },
  {
   "cell_type": "code",
   "execution_count": 77,
   "metadata": {},
   "outputs": [],
   "source": [
    "disp_path = \"data/dataRGBD/Disparity20/\"\n",
    "rgb_path = \"data/dataRGBD/RGB20/\""
   ]
  },
  {
   "cell_type": "code",
   "execution_count": 51,
   "metadata": {},
   "outputs": [],
   "source": [
    "lidar_stamps = lidar_data.lidar_stamps\n",
    "robot_poses = robot.state_history[1:, :3]\n",
    "assert lidar_stamps.shape[0] == robot_poses.shape[0]\n",
    "\n",
    "disparity_stamps = DisparityLoader(data).disp_stamps\n",
    "rgb_stamps = RGBLoader(data).rgb_stamps"
   ]
  },
  {
   "cell_type": "code",
   "execution_count": 61,
   "metadata": {},
   "outputs": [],
   "source": [
    "def sync_data(original_data, original_stamps, target_stamps):\n",
    "    index = np.argmin(np.abs(original_stamps - target_stamps))\n",
    "    return original_data[index]"
   ]
  },
  {
   "cell_type": "code",
   "execution_count": 70,
   "metadata": {},
   "outputs": [],
   "source": [
    "import glob\n",
    "\n",
    "len(glob.glob(disp_path + \"*.png\")), len(glob.glob(rgb_path + \"*.png\"))\n",
    "assert len(glob.glob(disp_path + \"*.png\")) == disparity_stamps.shape[0]\n",
    "assert len(glob.glob(rgb_path + \"*.png\")) == rgb_stamps.shape[0]"
   ]
  },
  {
   "cell_type": "code",
   "execution_count": 94,
   "metadata": {},
   "outputs": [
    {
     "name": "stdout",
     "output_type": "stream",
     "text": [
      "(480, 640, 3)\n"
     ]
    }
   ],
   "source": [
    "\n",
    "for disp_index, disparity_stamp in enumerate(disparity_stamps):\n",
    "\n",
    "    rgb_stamp = sync_data(rgb_stamps, disparity_stamps, disparity_stamp)\n",
    "    lidar_stamp = sync_data(lidar_stamps, disparity_stamps, disparity_stamp)\n",
    "\n",
    "    # find corresponding indices\n",
    "    rgb_index = np.where(rgb_stamps == rgb_stamp)[0][0]\n",
    "    lidar_index = np.where(lidar_stamps == lidar_stamp)[0][0]\n",
    "\n",
    "    # images\n",
    "    disp_index = disp_index+1\n",
    "    rgb_index = rgb_index+1\n",
    "\n",
    "    disparity_image_path = os.path.join(disp_path, f\"disparity{dataset_num}_{disp_index}.png\")\n",
    "    rgb_image_path = os.path.join(rgb_path, f\"rgb{dataset_num}_{rgb_index}.png\")\n",
    "    \n",
    "    assert os.path.exists(disparity_image_path)\n",
    "    assert os.path.exists(rgb_image_path)\n",
    "\n",
    "    x, y, z, imc, imd, rgbu, rgbv, valid = coord3d(disparity_image_path, rgb_image_path)\n",
    "\n",
    "    # optical frame to camera frame\n",
    "    camera_coords = np.stack([z[valid], -x[valid], -y[valid]], axis=1)\n",
    "    camera_coords = camera_coords.reshape(-1, 3)\n",
    "\n",
    "    # homegeneous coordinates\n",
    "    camera_coords = np.concatenate([camera_coords, np.ones((camera_coords.shape[0], 1))], axis=1)\n",
    "\n",
    "\n",
    "    # camera frame to body frame\n",
    "    body_coords = body_T_optical() @ camera_coords.T\n",
    "    body_coords = body_coords.T\n",
    "\n",
    "    # body frame to world frame\n",
    "    x, y, theta = robot_poses[lidar_index]\n",
    "    yaw = theta\n",
    "    R_yaw = np.array([\n",
    "        [np.cos(yaw), -np.sin(yaw), 0],\n",
    "        [np.sin(yaw), np.cos(yaw), 0],\n",
    "        [0, 0, 1]\n",
    "    ])\n",
    "    pose = np.eye(4)\n",
    "    pose[:3, :3] = R_yaw\n",
    "    pose[:3, 3] = np.array([x, y, 0])\n",
    "\n",
    "\n",
    "    world_coords = pose @ body_coords.T\n",
    "    world_coords = world_coords.T\n",
    "    world_coords = world_coords[:, :3]\n",
    "\n",
    "\n",
    "    colors = imc[rgbv[valid].astype(int),rgbu[valid].astype(int)]\n",
    "    colors = colors.reshape(-1, 3)\n",
    "\n"
   ]
  }
 ],
 "metadata": {
  "kernelspec": {
   "display_name": "base",
   "language": "python",
   "name": "python3"
  },
  "language_info": {
   "codemirror_mode": {
    "name": "ipython",
    "version": 3
   },
   "file_extension": ".py",
   "mimetype": "text/x-python",
   "name": "python",
   "nbconvert_exporter": "python",
   "pygments_lexer": "ipython3",
   "version": "3.10.8"
  },
  "orig_nbformat": 4
 },
 "nbformat": 4,
 "nbformat_minor": 2
}
