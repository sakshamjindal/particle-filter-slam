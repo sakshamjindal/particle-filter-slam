{
 "cells": [
  {
   "cell_type": "code",
   "execution_count": 1,
   "metadata": {},
   "outputs": [],
   "source": [
    "%load_ext autoreload\n",
    "%autoreload 2"
   ]
  },
  {
   "cell_type": "code",
   "execution_count": 2,
   "metadata": {},
   "outputs": [],
   "source": [
    "import numpy as np\n",
    "from tqdm import tqdm\n",
    "import os\n",
    "\n",
    "from core.robot import Robot\n",
    "from core.dataloader import EncoderIMULoader, LidarLoader\n",
    "from core.map import Map\n",
    "from core.load_data import load_data\n",
    "import matplotlib.pyplot as plt"
   ]
  },
  {
   "cell_type": "code",
   "execution_count": 3,
   "metadata": {},
   "outputs": [
    {
     "name": "stdout",
     "output_type": "stream",
     "text": [
      "N: 100, lidar: True, sigma: 0\n"
     ]
    },
    {
     "name": "stderr",
     "output_type": "stream",
     "text": [
      "399it [01:04,  5.92it/s]"
     ]
    }
   ],
   "source": [
    "\n",
    "experiments = {\n",
    "    \"N\": [10, 100, 1000],\n",
    "    \"lidar\": [True],\n",
    "    \"sigma\": [0, 0.01, 0.05]\n",
    "}\n",
    "\n",
    "\n",
    "# experiments = {\n",
    "#     \"N\": [100],\n",
    "#     \"lidar\": [True],\n",
    "#     \"sigma\": [0]\n",
    "# }\n",
    "\n",
    "os.makedirs(\"results\", exist_ok=True)\n",
    "for N in experiments[\"N\"]:\n",
    "    for lidar in experiments[\"lidar\"]:\n",
    "        for sigma in experiments[\"sigma\"]:\n",
    "            print(f\"N: {N}, lidar: {lidar}, sigma: {sigma}\")\n",
    "\n",
    "            save_dir = f\"results/N_{N}_lidar_{lidar}_sigma_{sigma}\"\n",
    "            os.makedirs(save_dir, exist_ok=True)\n",
    "\n",
    "            dataset_num = 20\n",
    "            dataset_dir = \"data\"\n",
    "            data = load_data(dataset_dir, dataset_num)\n",
    "\n",
    "            robot = Robot(N = N, sigma = sigma, parallize=False, dataset_dir=save_dir)\n",
    "\n",
    "            encoder = EncoderIMULoader(data)\n",
    "            lidar_data = LidarLoader(data)\n",
    "\n",
    "            encoder_stamps = encoder.encoder_stamps\n",
    "            lidar_stamps = lidar_data.lidar_stamps\n",
    "\n",
    "            timestamps = np.concatenate((encoder_stamps, lidar_stamps))\n",
    "            timestamps.sort()\n",
    "\n",
    "            for index, timestamp in tqdm(enumerate(timestamps)):\n",
    "                if timestamp in encoder_stamps:\n",
    "                    encoder_index = np.where(encoder_stamps == timestamp)[0][0]\n",
    "\n",
    "                    if encoder_index == 0:\n",
    "                        continue\n",
    "\n",
    "                    motion_model = encoder.motion_model(encoder_index)\n",
    "                    robot.predict(motion_model)\n",
    "\n",
    "                elif timestamp in lidar_stamps:\n",
    "                    lidar_index = np.where(lidar_stamps == timestamp)[0][0]\n",
    "                    lidar_points = lidar_data(lidar_index)\n",
    "\n",
    "                    robot.update(lidar_points.points)\n",
    "                else:\n",
    "                    print(\"Something went wrong\")\n",
    "\n",
    "            #plot trajectory\n",
    "            robot.plot_trajectory()\n",
    "\n",
    "            # plot map\n",
    "            robot.map.plot()\n",
    "\n",
    "            import pickle\n",
    "            with open(f\"{save_dir}/robot.pickle\", \"wb\") as f:\n",
    "                pickle.dump(robot, f)\n",
    "\n",
    "            with open(f\"{save_dir}/map.pickle\", \"wb\") as f:\n",
    "                pickle.dump(robot.map, f)\n",
    "\n",
    "            del robot"
   ]
  },
  {
   "cell_type": "code",
   "execution_count": 5,
   "metadata": {},
   "outputs": [
    {
     "name": "stdout",
     "output_type": "stream",
     "text": [
      "N: 1, lidar: False, sigma: 0\n"
     ]
    },
    {
     "name": "stderr",
     "output_type": "stream",
     "text": [
      "9918it [00:00, 44633.66it/s]\n"
     ]
    },
    {
     "name": "stdout",
     "output_type": "stream",
     "text": [
      "N: 1, lidar: False, sigma: 0.001\n"
     ]
    },
    {
     "name": "stderr",
     "output_type": "stream",
     "text": [
      "9918it [00:00, 44946.11it/s]\n"
     ]
    },
    {
     "name": "stdout",
     "output_type": "stream",
     "text": [
      "N: 1, lidar: False, sigma: 0.01\n"
     ]
    },
    {
     "name": "stderr",
     "output_type": "stream",
     "text": [
      "9918it [00:00, 39630.46it/s]\n"
     ]
    },
    {
     "name": "stdout",
     "output_type": "stream",
     "text": [
      "N: 1, lidar: False, sigma: 0.05\n"
     ]
    },
    {
     "name": "stderr",
     "output_type": "stream",
     "text": [
      "9918it [00:00, 42812.54it/s]\n"
     ]
    },
    {
     "name": "stdout",
     "output_type": "stream",
     "text": [
      "N: 1, lidar: False, sigma: 0.1\n"
     ]
    },
    {
     "name": "stderr",
     "output_type": "stream",
     "text": [
      "9918it [00:00, 44677.67it/s]\n"
     ]
    },
    {
     "name": "stdout",
     "output_type": "stream",
     "text": [
      "N: 1, lidar: False, sigma: 0.5\n"
     ]
    },
    {
     "name": "stderr",
     "output_type": "stream",
     "text": [
      "9918it [00:00, 44396.34it/s]\n"
     ]
    }
   ],
   "source": [
    "experiments = {\n",
    "    \"N\": [1],\n",
    "    \"lidar\": [False],\n",
    "    \"sigma\": [0, 0.001, 0.01, 0.05, 0.1, 0.5]\n",
    "}\n",
    "\n",
    "os.makedirs(\"results\", exist_ok=True)\n",
    "for N in experiments[\"N\"]:\n",
    "    for lidar in experiments[\"lidar\"]:\n",
    "        for sigma in experiments[\"sigma\"]:\n",
    "            print(f\"N: {N}, lidar: {lidar}, sigma: {sigma}\")\n",
    "\n",
    "            save_dir = f\"results/N_{N}_lidar_{lidar}_sigma_{sigma}\"\n",
    "            os.makedirs(save_dir, exist_ok=True)\n",
    "\n",
    "            dataset_num = 20\n",
    "            dataset_dir = \"data\"\n",
    "            data = load_data(dataset_dir, dataset_num)\n",
    "\n",
    "            robot = Robot(N = N, sigma = sigma, parallize=False, dataset_dir=save_dir)\n",
    "\n",
    "            encoder = EncoderIMULoader(data)\n",
    "            lidar_data = LidarLoader(data)\n",
    "\n",
    "            encoder_stamps = encoder.encoder_stamps\n",
    "            lidar_stamps = lidar_data.lidar_stamps\n",
    "\n",
    "            timestamps = np.concatenate((encoder_stamps, lidar_stamps))\n",
    "            timestamps.sort()\n",
    "\n",
    "            for index, timestamp in tqdm(enumerate(timestamps)):\n",
    "                if timestamp in encoder_stamps:\n",
    "                    encoder_index = np.where(encoder_stamps == timestamp)[0][0]\n",
    "\n",
    "                    if encoder_index == 0:\n",
    "                        continue\n",
    "\n",
    "                    motion_model = encoder.motion_model(encoder_index)\n",
    "                    robot.predict(motion_model)\n",
    "\n",
    "                elif timestamp in lidar_stamps:\n",
    "                    continue\n",
    "                    lidar_index = np.where(lidar_stamps == timestamp)[0][0]\n",
    "                    lidar_points = lidar_data(lidar_index)\n",
    "\n",
    "                    robot.update(lidar_points.points)\n",
    "                else:\n",
    "                    print(\"Something went wrong\")\n",
    "\n",
    "            particle = robot.particles[0]\n",
    "            particle_history = particle.history\n",
    "            plt.plot(particle_history[:, 0], particle_history[:, 1])\n",
    "            plt.savefig(f\"{save_dir}/particle_history.png\")\n",
    "            plt.close()\n",
    "\n",
    "            import pickle\n",
    "            with open(f\"{save_dir}/robot.pickle\", \"wb\") as f:\n",
    "                pickle.dump(robot, f)\n",
    "\n",
    "            with open(f\"{save_dir}/map.pickle\", \"wb\") as f:\n",
    "                pickle.dump(robot.map, f)\n",
    "\n",
    "            del robot"
   ]
  },
  {
   "cell_type": "code",
   "execution_count": 3,
   "metadata": {},
   "outputs": [
    {
     "name": "stdout",
     "output_type": "stream",
     "text": [
      "N: 1, lidar: True, sigma: 0, encoder: False\n"
     ]
    },
    {
     "name": "stderr",
     "output_type": "stream",
     "text": [
      "1it [00:00,  8.64it/s]\n"
     ]
    }
   ],
   "source": [
    "experiments = {\n",
    "    \"N\": [1],\n",
    "    \"lidar\": [True],\n",
    "    \"encoder\": [False],\n",
    "    \"sigma\": [0]\n",
    "}\n",
    "\n",
    "os.makedirs(\"results\", exist_ok=True)\n",
    "for N in experiments[\"N\"]:\n",
    "    for lidar in experiments[\"lidar\"]:\n",
    "        for sigma in experiments[\"sigma\"]:\n",
    "            for encoder in experiments[\"encoder\"]:\n",
    "                print(f\"N: {N}, lidar: {lidar}, sigma: {sigma}, encoder: {encoder}\")\n",
    "\n",
    "                save_dir = f\"results/N_{N}_lidar_{lidar}_sigma_{sigma}_encoder_{encoder}\"\n",
    "                os.makedirs(save_dir, exist_ok=True)\n",
    "\n",
    "                dataset_num = 20\n",
    "                dataset_dir = \"data\"\n",
    "                data = load_data(dataset_dir, dataset_num)\n",
    "\n",
    "                robot = Robot(N = N, sigma = sigma, parallize=False, dataset_dir=save_dir)\n",
    "\n",
    "                encoder = EncoderIMULoader(data)\n",
    "                lidar_data = LidarLoader(data)\n",
    "\n",
    "                encoder_stamps = encoder.encoder_stamps\n",
    "                lidar_stamps = lidar_data.lidar_stamps\n",
    "\n",
    "                timestamps = np.concatenate((encoder_stamps, lidar_stamps))\n",
    "                timestamps.sort()\n",
    "\n",
    "                for index, timestamp in tqdm(enumerate(timestamps)):\n",
    "                    if timestamp in encoder_stamps:\n",
    "                        encoder_index = np.where(encoder_stamps == timestamp)[0][0]\n",
    "\n",
    "                        if encoder_index == 0:\n",
    "                            continue\n",
    "\n",
    "                        motion_model = encoder.motion_model(encoder_index)\n",
    "                        robot.predict(motion_model)\n",
    "\n",
    "                    elif timestamp in lidar_stamps:\n",
    "                        lidar_index = np.where(lidar_stamps == timestamp)[0][0]\n",
    "                        lidar_points = lidar_data(lidar_index)\n",
    "\n",
    "                        robot.update(lidar_points.points)\n",
    "                        break\n",
    "                    else:\n",
    "                        print(\"Something went wrong\")\n",
    "\n",
    "                #plot trajectory\n",
    "                robot.plot_trajectory()\n",
    "\n",
    "                # plot map\n",
    "                robot.map.plot()\n",
    "\n",
    "                import pickle\n",
    "                with open(f\"{save_dir}/robot.pickle\", \"wb\") as f:\n",
    "                    pickle.dump(robot, f)\n",
    "\n",
    "                with open(f\"{save_dir}/map.pickle\", \"wb\") as f:\n",
    "                    pickle.dump(robot.map, f)\n",
    "\n",
    "                del robot"
   ]
  },
  {
   "cell_type": "code",
   "execution_count": null,
   "metadata": {},
   "outputs": [],
   "source": []
  }
 ],
 "metadata": {
  "kernelspec": {
   "display_name": "base",
   "language": "python",
   "name": "python3"
  },
  "language_info": {
   "codemirror_mode": {
    "name": "ipython",
    "version": 3
   },
   "file_extension": ".py",
   "mimetype": "text/x-python",
   "name": "python",
   "nbconvert_exporter": "python",
   "pygments_lexer": "ipython3",
   "version": "3.10.8"
  },
  "orig_nbformat": 4
 },
 "nbformat": 4,
 "nbformat_minor": 2
}
